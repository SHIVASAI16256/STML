{
  "nbformat": 4,
  "nbformat_minor": 0,
  "metadata": {
    "colab": {
      "provenance": [],
      "authorship_tag": "ABX9TyOEyQxpCIW03YmhZD9d03im",
      "include_colab_link": true
    },
    "kernelspec": {
      "name": "python3",
      "display_name": "Python 3"
    },
    "language_info": {
      "name": "python"
    }
  },
  "cells": [
    {
      "cell_type": "markdown",
      "metadata": {
        "id": "view-in-github",
        "colab_type": "text"
      },
      "source": [
        "<a href=\"https://colab.research.google.com/github/SHIVASAI16256/STML/blob/main/STML_A10.ipynb\" target=\"_parent\"><img src=\"https://colab.research.google.com/assets/colab-badge.svg\" alt=\"Open In Colab\"/></a>"
      ]
    },
    {
      "cell_type": "code",
      "source": [
        "import pandas as pd\n",
        "data_path = '/content/drive/MyDrive/SML AIML ASSIGNMENTS/SML ASSIGNMENTS/breast_cancer_survival.csv'\n",
        "data = pd.read_csv(data_path)\n",
        "print(\"Column Names:\", data.columns.tolist())\n",
        "features = data.drop('Patient_Status', axis=1)\n",
        "target = data['Patient_Status']\n",
        "print(\"Features:\")\n",
        "print(features.head())\n",
        "print(\"Target:\")\n",
        "print(target.head())"
      ],
      "metadata": {
        "colab": {
          "base_uri": "https://localhost:8080/"
        },
        "id": "B_wqIqRX42zV",
        "outputId": "52675308-0527-43a7-8e52-c960bf3dde98"
      },
      "execution_count": 14,
      "outputs": [
        {
          "output_type": "stream",
          "name": "stdout",
          "text": [
            "Column Names: ['Age', 'Gender', 'Protein1', 'Protein2', 'Protein3', 'Protein4', 'Tumour_Stage', 'Histology', 'ER status', 'PR status', 'HER2 status', 'Surgery_type', 'Date_of_Surgery', 'Date_of_Last_Visit', 'Patient_Status']\n",
            "Features:\n",
            "   Age  Gender  Protein1  Protein2  Protein3  Protein4 Tumour_Stage  \\\n",
            "0   42  FEMALE   0.95256   2.15000  0.007972 -0.048340           II   \n",
            "1   54  FEMALE   0.00000   1.38020 -0.498030 -0.507320           II   \n",
            "2   63  FEMALE  -0.52303   1.76400 -0.370190  0.010815           II   \n",
            "3   78  FEMALE  -0.87618   0.12943 -0.370380  0.132190            I   \n",
            "4   42  FEMALE   0.22611   1.74910 -0.543970 -0.390210           II   \n",
            "\n",
            "                       Histology ER status PR status HER2 status Surgery_type  \\\n",
            "0  Infiltrating Ductal Carcinoma  Positive  Positive    Negative        Other   \n",
            "1  Infiltrating Ductal Carcinoma  Positive  Positive    Negative        Other   \n",
            "2  Infiltrating Ductal Carcinoma  Positive  Positive    Negative   Lumpectomy   \n",
            "3  Infiltrating Ductal Carcinoma  Positive  Positive    Negative        Other   \n",
            "4  Infiltrating Ductal Carcinoma  Positive  Positive    Positive   Lumpectomy   \n",
            "\n",
            "  Date_of_Surgery Date_of_Last_Visit  \n",
            "0       20-May-18          26-Aug-18  \n",
            "1       26-Apr-18          25-Jan-19  \n",
            "2       24-Aug-18          08-Apr-20  \n",
            "3       16-Nov-18          28-Jul-20  \n",
            "4       12-Dec-18          05-Jan-19  \n",
            "Target:\n",
            "0    Alive\n",
            "1     Dead\n",
            "2    Alive\n",
            "3    Alive\n",
            "4    Alive\n",
            "Name: Patient_Status, dtype: object\n"
          ]
        }
      ]
    },
    {
      "cell_type": "code",
      "source": [
        "import pandas as pd\n",
        "from sklearn.model_selection import train_test_split\n",
        "from sklearn.svm import SVC\n",
        "from sklearn.metrics import accuracy_score\n",
        "data_path = '/content/drive/MyDrive/SML AIML ASSIGNMENTS/SML ASSIGNMENTS/breast_cancer_survival.csv'\n",
        "data = pd.read_csv(data_path)\n",
        "features = data.drop('Patient_Status', axis=1)\n",
        "target = data['Patient_Status']\n",
        "features_encoded = pd.get_dummies(features, drop_first=True)\n",
        "print(\"NaN values in features:\", features_encoded.isnull().sum().sum())\n",
        "print(\"NaN values in target:\", target.isnull().sum())\n",
        "combined = pd.concat([features_encoded, target], axis=1)\n",
        "combined = combined.dropna()\n",
        "features_encoded = combined.drop('Patient_Status', axis=1)\n",
        "target = combined['Patient_Status']\n",
        "test_sizes = [0.2, 0.25, 0.3, 0.35]\n",
        "accuracy_results = {}\n",
        "for test_size in test_sizes:\n",
        "    X_train, X_test, y_train, y_test = train_test_split(features_encoded, target, test_size=test_size, random_state=42)\n",
        "    svm_model = SVC(kernel='linear')\n",
        "    svm_model.fit(X_train, y_train)\n",
        "    y_pred = svm_model.predict(X_test)\n",
        "    accuracy = accuracy_score(y_test, y_pred)\n",
        "    accuracy_results[test_size] = accuracy\n",
        "print(\"Accuracy Results:\")\n",
        "for test_size, accuracy in accuracy_results.items():\n",
        "    print(f\"Test size: {test_size:.2f}, Accuracy: {accuracy:.2f}\")"
      ],
      "metadata": {
        "colab": {
          "base_uri": "https://localhost:8080/"
        },
        "id": "y95uksuw7wKX",
        "outputId": "fca44f82-8f03-4431-ea9d-2559cbbd385c"
      },
      "execution_count": 19,
      "outputs": [
        {
          "output_type": "stream",
          "name": "stdout",
          "text": [
            "NaN values in features: 0\n",
            "NaN values in target: 13\n",
            "Accuracy Results:\n",
            "Test size: 0.20, Accuracy: 0.75\n",
            "Test size: 0.25, Accuracy: 0.72\n",
            "Test size: 0.30, Accuracy: 0.73\n",
            "Test size: 0.35, Accuracy: 0.74\n"
          ]
        }
      ]
    }
  ]
}