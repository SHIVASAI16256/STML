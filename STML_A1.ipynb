{
  "nbformat": 4,
  "nbformat_minor": 0,
  "metadata": {
    "colab": {
      "provenance": []
    },
    "kernelspec": {
      "name": "python3",
      "display_name": "Python 3"
    },
    "language_info": {
      "name": "python"
    }
  },
  "cells": [
    {
      "source": [
        "from google.colab import drive\n",
        "drive.mount('/content/drive')\n",
        "import pandas as pd\n",
        "import numpy as np\n",
        "import scipy as sc\n",
        "import statistics as stat\n",
        "import matplotlib.pyplot as plt\n",
        "from scipy.stats import skew\n",
        "from scipy.stats import kurtosis\n",
        "from scipy.stats import iqr\n",
        "def find_mode(arr):\n",
        "  #The code within the function needs to be indented\n",
        "  counts = np.bincount(arr)\n",
        "  mode = np.argmax(counts)\n",
        "  return mode\n",
        "data = pd.read_csv(\"/content/drive/MyDrive/heart_attack_dataset.csv\",usecols=['Age'])\n",
        "print(data.head(20))\n",
        "print(\"Mean of the data=\",np.mean(data['Age']))\n",
        "print(\"Median of the data=\",np.median(data['Age']))\n",
        "print(\"Mode of the data=\",find_mode(data['Age']))\n",
        "print(\"SD of the data=\\n\",np.std(data['Age']))\n",
        "print(\"Skew of the data=\\n\",skew(data['Age'],axis=0,bias=True))\n",
        "print(\"Kurtosis of the data=\\n\",kurtosis(data['Age'],axis=0,bias=True))\n",
        "print(\"IQR of the data=\\n\",iqr(data['Age']))\n",
        "print(\"Range of the data=\\n\",data.max()-data.min())\n",
        "plt.hist(data['Age'],100,color='purple')\n",
        "plt.xlabel('Age')\n",
        "plt.ylabel('Frequency')\n",
        "plt.title('Histogram of Age')"
      ],
      "cell_type": "code",
      "metadata": {
        "colab": {
          "base_uri": "https://localhost:8080/",
          "height": 1000
        },
        "id": "13fwSyf_x88F",
        "outputId": "7482af4b-803a-4ef4-c7b4-c04bdbe34c11"
      },
      "execution_count": 5,
      "outputs": [
        {
          "output_type": "stream",
          "name": "stdout",
          "text": [
            "Drive already mounted at /content/drive; to attempt to forcibly remount, call drive.mount(\"/content/drive\", force_remount=True).\n",
            "    Age\n",
            "0    70\n",
            "1    55\n",
            "2    42\n",
            "3    84\n",
            "4    86\n",
            "5    66\n",
            "6    33\n",
            "7    84\n",
            "8    73\n",
            "9    63\n",
            "10   88\n",
            "11   69\n",
            "12   78\n",
            "13   89\n",
            "14   71\n",
            "15   30\n",
            "16   77\n",
            "17   86\n",
            "18   76\n",
            "19   74\n",
            "Mean of the data= 60.338\n",
            "Median of the data= 60.5\n",
            "Mode of the data= 71\n",
            "SD of the data=\n",
            " 17.308834622816175\n",
            "Skew of the data=\n",
            " -0.03564231872093601\n",
            "Kurtosis of the data=\n",
            " -1.2485927713831055\n",
            "IQR of the data=\n",
            " 31.0\n",
            "Range of the data=\n",
            " Age    59\n",
            "dtype: int64\n"
          ]
        },
        {
          "output_type": "execute_result",
          "data": {
            "text/plain": [
              "Text(0.5, 1.0, 'Histogram of Age')"
            ]
          },
          "metadata": {},
          "execution_count": 5
        },
        {
          "output_type": "display_data",
          "data": {
            "text/plain": [
              "<Figure size 640x480 with 1 Axes>"
            ],
            "image/png": "[encoded data removed]"
          },
          "metadata": {}
        }
      ]
    }
  ]
}